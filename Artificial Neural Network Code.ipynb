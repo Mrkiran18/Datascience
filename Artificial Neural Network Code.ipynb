{
 "cells": [
  {
   "cell_type": "code",
   "execution_count": 1,
   "id": "d33e2c6e",
   "metadata": {},
   "outputs": [],
   "source": [
    "#importing required libraries\n",
    "import numpy as np\n",
    "import pandas as pd\n",
    "import tensorflow as tf\n",
    "from sklearn.compose import ColumnTransformer\n",
    "from sklearn.preprocessing import OneHotEncoder\n",
    "from sklearn.preprocessing import LabelEncoder\n",
    "from sklearn.model_selection import train_test_split\n",
    "from sklearn.preprocessing import StandardScaler\n",
    "from sklearn.metrics import confusion_matrix, accuracy_score"
   ]
  },
  {
   "cell_type": "code",
   "execution_count": 2,
   "id": "d2beba2f",
   "metadata": {},
   "outputs": [
    {
     "name": "stdout",
     "output_type": "stream",
     "text": [
      "2.10.0\n"
     ]
    }
   ],
   "source": [
    "# Checking the tensorflow version\n",
    "print(tf.__version__)"
   ]
  },
  {
   "cell_type": "code",
   "execution_count": 3,
   "id": "38d37ec8",
   "metadata": {},
   "outputs": [],
   "source": [
    "import os\n",
    "os.chdir(r'C:\\Deep Learning')"
   ]
  },
  {
   "cell_type": "code",
   "execution_count": 4,
   "id": "e928bb83",
   "metadata": {},
   "outputs": [],
   "source": [
    "# Loading the data\n",
    "bank_data = pd.read_csv(\"Artificial_Neural_Network_Case_Study_data.csv\")\n",
    "\n",
    "# Taking  all rows and all columns in the data except the last column as X (feature matrix)\n",
    "#the row numbers and customer id's are not necessary for the modelling so we get rid of and start with credit score\n",
    "X = bank_data.iloc[:,3:-1].values\n",
    "\n",
    "#taking all rows but only the last column as Y(dependent variable)\n",
    "y = bank_data.iloc[:, -1].values\n"
   ]
  },
  {
   "cell_type": "code",
   "execution_count": 5,
   "id": "2bcc0ba5",
   "metadata": {},
   "outputs": [
    {
     "data": {
      "text/plain": [
       "0    7963\n",
       "1    2037\n",
       "Name: Exited, dtype: int64"
      ]
     },
     "execution_count": 5,
     "metadata": {},
     "output_type": "execute_result"
    }
   ],
   "source": [
    "bank_data['Exited'].value_counts()"
   ]
  },
  {
   "cell_type": "code",
   "execution_count": 6,
   "id": "faa078c1",
   "metadata": {},
   "outputs": [
    {
     "name": "stdout",
     "output_type": "stream",
     "text": [
      "[[619 'France' 0 ... 1 1 101348.88]\n",
      " [608 'Spain' 0 ... 0 1 112542.58]\n",
      " [502 'France' 0 ... 1 0 113931.57]\n",
      " ...\n",
      " [709 'France' 0 ... 0 1 42085.58]\n",
      " [772 'Germany' 1 ... 1 0 92888.52]\n",
      " [792 'France' 0 ... 1 0 38190.78]]\n"
     ]
    }
   ],
   "source": [
    "# Transforming the gender variable, labels are chosen randomly\n",
    "le = LabelEncoder()\n",
    "X[:,2] = le.fit_transform(X[:,2])\n",
    "print(X)"
   ]
  },
  {
   "cell_type": "code",
   "execution_count": 7,
   "id": "27346cbc",
   "metadata": {},
   "outputs": [
    {
     "name": "stdout",
     "output_type": "stream",
     "text": [
      "[[1.0 0.0 0.0 ... 1 1 101348.88]\n",
      " [0.0 0.0 1.0 ... 0 1 112542.58]\n",
      " [1.0 0.0 0.0 ... 1 0 113931.57]\n",
      " ...\n",
      " [1.0 0.0 0.0 ... 0 1 42085.58]\n",
      " [0.0 1.0 0.0 ... 1 0 92888.52]\n",
      " [1.0 0.0 0.0 ... 1 0 38190.78]]\n"
     ]
    }
   ],
   "source": [
    "# Transforming the geography column variable, labels are chosen randomly, the ct asks for argument [1] the index of the target vb\n",
    "ct = ColumnTransformer(transformers = [('encoder', OneHotEncoder(),[1])], remainder = 'passthrough')\n",
    "X = np.array(ct.fit_transform(X))\n",
    "print(X)"
   ]
  },
  {
   "cell_type": "code",
   "execution_count": 8,
   "id": "9f63ea26",
   "metadata": {},
   "outputs": [
    {
     "name": "stdout",
     "output_type": "stream",
     "text": [
      "(8000, 12) (2000, 12)\n",
      "(8000,) (2000,)\n"
     ]
    }
   ],
   "source": [
    "# Splitting the data into train and test\n",
    "X_train, X_test, y_train, y_test = train_test_split(X, y, test_size = 0.2, random_state = 0)\n",
    "#printing the dimensions of each of those snapshots to see amount of rows and columns i each of them\n",
    "print(X_train.shape, X_test.shape)\n",
    "print(y_train.shape, y_test.shape)"
   ]
  },
  {
   "cell_type": "code",
   "execution_count": 9,
   "id": "126ef053",
   "metadata": {},
   "outputs": [],
   "source": [
    "# Data Scaling/normalization of the features that will go to the NN\n",
    "sc = StandardScaler()\n",
    "X_train = sc.fit_transform(X_train)\n",
    "X_test = sc.transform(X_test)"
   ]
  },
  {
   "cell_type": "code",
   "execution_count": 10,
   "id": "4763aa28",
   "metadata": {},
   "outputs": [],
   "source": [
    "### Model Building"
   ]
  },
  {
   "cell_type": "code",
   "execution_count": 11,
   "id": "483e896c",
   "metadata": {},
   "outputs": [],
   "source": [
    "# Initializing the ANN by calling the Sequential class fromm keras of Tensorflow\n",
    "ann = tf.keras.models.Sequential()"
   ]
  },
  {
   "cell_type": "code",
   "execution_count": 12,
   "id": "2f1a9e22",
   "metadata": {},
   "outputs": [],
   "source": [
    "# Adding \"fully connected\" INPUT layer to the Sequential ANN by calling Dense class\n",
    "#----------------------------------------------------------------------------------\n",
    "# Number of Units = 6 and Activation Function = Rectifier\n",
    "ann.add(tf.keras.layers.Dense(units = 8, activation = 'sigmoid'))"
   ]
  },
  {
   "cell_type": "code",
   "execution_count": 13,
   "id": "f3008d7e",
   "metadata": {},
   "outputs": [],
   "source": [
    "# Adding \"fully connected\" SECOND layer to the Sequential AMM by calling Dense class\n",
    "#----------------------------------------------------------------------------------\n",
    "# Number of Units = 6 and Activation Function = Rectifier\n",
    "ann.add(tf.keras.layers.Dense(units = 6, activation = 'sigmoid'))"
   ]
  },
  {
   "cell_type": "code",
   "execution_count": 14,
   "id": "60d9f22f",
   "metadata": {},
   "outputs": [],
   "source": [
    "# Adding \"fully connected\" OUTPUT layer to the Sequential ANN by calling Dense class\n",
    "#----------------------------------------------------------------------------------\n",
    "# Number of Units = 1 and Activation Function = Sigmoid\n",
    "ann.add(tf.keras.layers.Dense(units = 1, activation = 'sigmoid'))"
   ]
  },
  {
   "cell_type": "code",
   "execution_count": 15,
   "id": "ee06b0be",
   "metadata": {},
   "outputs": [],
   "source": [
    "#----------------------- Training the model -----------------------#\n",
    "# Compiling the ANN\n",
    "# Type of Optimizer = Adam Optimizer, Loss Function =  crossentropy for binary dependent variable, and Optimization is done w.r.t. accuracy\n",
    "ann.compile(optimizer = 'adam', loss = 'binary_crossentropy', metrics = ['accuracy'])"
   ]
  },
  {
   "cell_type": "code",
   "execution_count": 16,
   "id": "5a45633d",
   "metadata": {},
   "outputs": [
    {
     "name": "stdout",
     "output_type": "stream",
     "text": [
      "Epoch 1/100\n",
      "250/250 [==============================] - 1s 760us/step - loss: 0.5076 - accuracy: 0.7960\n",
      "Epoch 2/100\n",
      "250/250 [==============================] - 0s 771us/step - loss: 0.4793 - accuracy: 0.7960\n",
      "Epoch 3/100\n",
      "250/250 [==============================] - 0s 723us/step - loss: 0.4610 - accuracy: 0.7960\n",
      "Epoch 4/100\n",
      "250/250 [==============================] - 0s 743us/step - loss: 0.4451 - accuracy: 0.7962\n",
      "Epoch 5/100\n",
      "250/250 [==============================] - 0s 741us/step - loss: 0.4345 - accuracy: 0.8019\n",
      "Epoch 6/100\n",
      "250/250 [==============================] - 0s 882us/step - loss: 0.4288 - accuracy: 0.8133\n",
      "Epoch 7/100\n",
      "250/250 [==============================] - 0s 711us/step - loss: 0.4253 - accuracy: 0.8161\n",
      "Epoch 8/100\n",
      "250/250 [==============================] - 0s 740us/step - loss: 0.4232 - accuracy: 0.8163\n",
      "Epoch 9/100\n",
      "250/250 [==============================] - 0s 728us/step - loss: 0.4216 - accuracy: 0.8179\n",
      "Epoch 10/100\n",
      "250/250 [==============================] - 0s 732us/step - loss: 0.4198 - accuracy: 0.8195\n",
      "Epoch 11/100\n",
      "250/250 [==============================] - 0s 736us/step - loss: 0.4178 - accuracy: 0.8210\n",
      "Epoch 12/100\n",
      "250/250 [==============================] - 0s 740us/step - loss: 0.4159 - accuracy: 0.8238\n",
      "Epoch 13/100\n",
      "250/250 [==============================] - 0s 875us/step - loss: 0.4138 - accuracy: 0.8236\n",
      "Epoch 14/100\n",
      "250/250 [==============================] - 0s 762us/step - loss: 0.4113 - accuracy: 0.8263\n",
      "Epoch 15/100\n",
      "250/250 [==============================] - 0s 707us/step - loss: 0.4088 - accuracy: 0.8299\n",
      "Epoch 16/100\n",
      "250/250 [==============================] - 0s 716us/step - loss: 0.4062 - accuracy: 0.8317\n",
      "Epoch 17/100\n",
      "250/250 [==============================] - 0s 733us/step - loss: 0.4037 - accuracy: 0.8330\n",
      "Epoch 18/100\n",
      "250/250 [==============================] - 0s 731us/step - loss: 0.4007 - accuracy: 0.8363\n",
      "Epoch 19/100\n",
      "250/250 [==============================] - 0s 786us/step - loss: 0.3984 - accuracy: 0.8370\n",
      "Epoch 20/100\n",
      "250/250 [==============================] - 0s 893us/step - loss: 0.3957 - accuracy: 0.8381\n",
      "Epoch 21/100\n",
      "250/250 [==============================] - 0s 956us/step - loss: 0.3935 - accuracy: 0.8376\n",
      "Epoch 22/100\n",
      "250/250 [==============================] - 0s 971us/step - loss: 0.3910 - accuracy: 0.8382\n",
      "Epoch 23/100\n",
      "250/250 [==============================] - 0s 925us/step - loss: 0.3887 - accuracy: 0.8393\n",
      "Epoch 24/100\n",
      "250/250 [==============================] - 0s 1ms/step - loss: 0.3865 - accuracy: 0.8403\n",
      "Epoch 25/100\n",
      "250/250 [==============================] - 0s 734us/step - loss: 0.3844 - accuracy: 0.8415\n",
      "Epoch 26/100\n",
      "250/250 [==============================] - 0s 751us/step - loss: 0.3820 - accuracy: 0.8413\n",
      "Epoch 27/100\n",
      "250/250 [==============================] - 0s 724us/step - loss: 0.3803 - accuracy: 0.8428\n",
      "Epoch 28/100\n",
      "250/250 [==============================] - 0s 720us/step - loss: 0.3784 - accuracy: 0.8438\n",
      "Epoch 29/100\n",
      "250/250 [==============================] - 0s 716us/step - loss: 0.3765 - accuracy: 0.8446\n",
      "Epoch 30/100\n",
      "250/250 [==============================] - 0s 784us/step - loss: 0.3749 - accuracy: 0.8447\n",
      "Epoch 31/100\n",
      "250/250 [==============================] - 0s 710us/step - loss: 0.3732 - accuracy: 0.8466\n",
      "Epoch 32/100\n",
      "250/250 [==============================] - 0s 724us/step - loss: 0.3715 - accuracy: 0.8460\n",
      "Epoch 33/100\n",
      "250/250 [==============================] - 0s 718us/step - loss: 0.3702 - accuracy: 0.8491\n",
      "Epoch 34/100\n",
      "250/250 [==============================] - 0s 744us/step - loss: 0.3688 - accuracy: 0.8466\n",
      "Epoch 35/100\n",
      "250/250 [==============================] - 0s 989us/step - loss: 0.3674 - accuracy: 0.8494\n",
      "Epoch 36/100\n",
      "250/250 [==============================] - 0s 847us/step - loss: 0.3663 - accuracy: 0.8491\n",
      "Epoch 37/100\n",
      "250/250 [==============================] - 0s 850us/step - loss: 0.3648 - accuracy: 0.8497\n",
      "Epoch 38/100\n",
      "250/250 [==============================] - 0s 903us/step - loss: 0.3636 - accuracy: 0.8506\n",
      "Epoch 39/100\n",
      "250/250 [==============================] - 0s 835us/step - loss: 0.3625 - accuracy: 0.8515\n",
      "Epoch 40/100\n",
      "250/250 [==============================] - 0s 713us/step - loss: 0.3614 - accuracy: 0.8518\n",
      "Epoch 41/100\n",
      "250/250 [==============================] - 0s 727us/step - loss: 0.3603 - accuracy: 0.8515\n",
      "Epoch 42/100\n",
      "250/250 [==============================] - 0s 732us/step - loss: 0.3596 - accuracy: 0.8531\n",
      "Epoch 43/100\n",
      "250/250 [==============================] - 0s 736us/step - loss: 0.3583 - accuracy: 0.8553\n",
      "Epoch 44/100\n",
      "250/250 [==============================] - 0s 732us/step - loss: 0.3574 - accuracy: 0.8533\n",
      "Epoch 45/100\n",
      "250/250 [==============================] - 0s 762us/step - loss: 0.3568 - accuracy: 0.8545\n",
      "Epoch 46/100\n",
      "250/250 [==============================] - 0s 716us/step - loss: 0.3559 - accuracy: 0.8551\n",
      "Epoch 47/100\n",
      "250/250 [==============================] - 0s 842us/step - loss: 0.3550 - accuracy: 0.8545\n",
      "Epoch 48/100\n",
      "250/250 [==============================] - 0s 727us/step - loss: 0.3543 - accuracy: 0.8555\n",
      "Epoch 49/100\n",
      "250/250 [==============================] - 0s 753us/step - loss: 0.3537 - accuracy: 0.8561\n",
      "Epoch 50/100\n",
      "250/250 [==============================] - 0s 723us/step - loss: 0.3531 - accuracy: 0.8555\n",
      "Epoch 51/100\n",
      "250/250 [==============================] - 0s 712us/step - loss: 0.3528 - accuracy: 0.8561\n",
      "Epoch 52/100\n",
      "250/250 [==============================] - 0s 725us/step - loss: 0.3519 - accuracy: 0.8570\n",
      "Epoch 53/100\n",
      "250/250 [==============================] - 0s 749us/step - loss: 0.3511 - accuracy: 0.8562\n",
      "Epoch 54/100\n",
      "250/250 [==============================] - 0s 694us/step - loss: 0.3505 - accuracy: 0.8568\n",
      "Epoch 55/100\n",
      "250/250 [==============================] - 0s 735us/step - loss: 0.3499 - accuracy: 0.8574\n",
      "Epoch 56/100\n",
      "250/250 [==============================] - 0s 715us/step - loss: 0.3495 - accuracy: 0.8575\n",
      "Epoch 57/100\n",
      "250/250 [==============================] - 0s 701us/step - loss: 0.3489 - accuracy: 0.8572\n",
      "Epoch 58/100\n",
      "250/250 [==============================] - 0s 848us/step - loss: 0.3485 - accuracy: 0.8574\n",
      "Epoch 59/100\n",
      "250/250 [==============================] - 0s 705us/step - loss: 0.3480 - accuracy: 0.8591\n",
      "Epoch 60/100\n",
      "250/250 [==============================] - 0s 729us/step - loss: 0.3474 - accuracy: 0.8606\n",
      "Epoch 61/100\n",
      "250/250 [==============================] - 0s 732us/step - loss: 0.3471 - accuracy: 0.8581\n",
      "Epoch 62/100\n",
      "250/250 [==============================] - 0s 727us/step - loss: 0.3466 - accuracy: 0.8594\n",
      "Epoch 63/100\n",
      "250/250 [==============================] - 0s 777us/step - loss: 0.3456 - accuracy: 0.8604\n",
      "Epoch 64/100\n",
      "250/250 [==============================] - 0s 710us/step - loss: 0.3462 - accuracy: 0.8577\n",
      "Epoch 65/100\n",
      "250/250 [==============================] - 0s 717us/step - loss: 0.3456 - accuracy: 0.8585\n",
      "Epoch 66/100\n",
      "250/250 [==============================] - 0s 720us/step - loss: 0.3449 - accuracy: 0.8594\n",
      "Epoch 67/100\n",
      "250/250 [==============================] - 0s 708us/step - loss: 0.3446 - accuracy: 0.8585\n",
      "Epoch 68/100\n",
      "250/250 [==============================] - 0s 708us/step - loss: 0.3441 - accuracy: 0.8604\n",
      "Epoch 69/100\n",
      "250/250 [==============================] - 0s 704us/step - loss: 0.3438 - accuracy: 0.8594\n",
      "Epoch 70/100\n",
      "250/250 [==============================] - 0s 722us/step - loss: 0.3435 - accuracy: 0.8585\n",
      "Epoch 71/100\n",
      "250/250 [==============================] - 0s 745us/step - loss: 0.3429 - accuracy: 0.8601\n",
      "Epoch 72/100\n",
      "250/250 [==============================] - 0s 928us/step - loss: 0.3430 - accuracy: 0.8596\n",
      "Epoch 73/100\n",
      "250/250 [==============================] - 0s 731us/step - loss: 0.3423 - accuracy: 0.8611\n",
      "Epoch 74/100\n",
      "250/250 [==============================] - 0s 743us/step - loss: 0.3422 - accuracy: 0.8608\n",
      "Epoch 75/100\n",
      "250/250 [==============================] - 0s 710us/step - loss: 0.3423 - accuracy: 0.8615\n",
      "Epoch 76/100\n",
      "250/250 [==============================] - 0s 738us/step - loss: 0.3415 - accuracy: 0.8610\n",
      "Epoch 77/100\n",
      "250/250 [==============================] - 0s 732us/step - loss: 0.3412 - accuracy: 0.8615\n",
      "Epoch 78/100\n",
      "250/250 [==============================] - 0s 732us/step - loss: 0.3411 - accuracy: 0.8605\n",
      "Epoch 79/100\n",
      "250/250 [==============================] - 0s 720us/step - loss: 0.3408 - accuracy: 0.8624\n",
      "Epoch 80/100\n",
      "250/250 [==============================] - 0s 696us/step - loss: 0.3402 - accuracy: 0.8618\n",
      "Epoch 81/100\n",
      "250/250 [==============================] - 0s 709us/step - loss: 0.3399 - accuracy: 0.8615\n",
      "Epoch 82/100\n",
      "250/250 [==============================] - 0s 693us/step - loss: 0.3400 - accuracy: 0.8627\n",
      "Epoch 83/100\n",
      "250/250 [==============================] - 0s 704us/step - loss: 0.3395 - accuracy: 0.8621\n",
      "Epoch 84/100\n",
      "250/250 [==============================] - 0s 748us/step - loss: 0.3394 - accuracy: 0.8622\n",
      "Epoch 85/100\n",
      "250/250 [==============================] - 0s 696us/step - loss: 0.3391 - accuracy: 0.8622\n",
      "Epoch 86/100\n",
      "250/250 [==============================] - 0s 1ms/step - loss: 0.3387 - accuracy: 0.8609\n",
      "Epoch 87/100\n",
      "250/250 [==============================] - 0s 1ms/step - loss: 0.3388 - accuracy: 0.8634\n",
      "Epoch 88/100\n",
      "250/250 [==============================] - 0s 844us/step - loss: 0.3386 - accuracy: 0.8634\n",
      "Epoch 89/100\n",
      "250/250 [==============================] - 0s 704us/step - loss: 0.3382 - accuracy: 0.8624\n",
      "Epoch 90/100\n",
      "250/250 [==============================] - 0s 700us/step - loss: 0.3381 - accuracy: 0.8633\n",
      "Epoch 91/100\n",
      "250/250 [==============================] - 0s 713us/step - loss: 0.3377 - accuracy: 0.8619\n",
      "Epoch 92/100\n",
      "250/250 [==============================] - 0s 700us/step - loss: 0.3378 - accuracy: 0.8646\n",
      "Epoch 93/100\n",
      "250/250 [==============================] - 0s 700us/step - loss: 0.3375 - accuracy: 0.8640\n",
      "Epoch 94/100\n",
      "250/250 [==============================] - 0s 716us/step - loss: 0.3372 - accuracy: 0.8634\n",
      "Epoch 95/100\n",
      "250/250 [==============================] - 0s 692us/step - loss: 0.3372 - accuracy: 0.8634\n",
      "Epoch 96/100\n",
      "250/250 [==============================] - 0s 693us/step - loss: 0.3370 - accuracy: 0.8629\n",
      "Epoch 97/100\n",
      "250/250 [==============================] - 0s 767us/step - loss: 0.3368 - accuracy: 0.8635\n",
      "Epoch 98/100\n",
      "250/250 [==============================] - 0s 718us/step - loss: 0.3369 - accuracy: 0.8645\n",
      "Epoch 99/100\n",
      "250/250 [==============================] - 0s 698us/step - loss: 0.3366 - accuracy: 0.8629\n",
      "Epoch 100/100\n",
      "250/250 [==============================] - 0s 742us/step - loss: 0.3364 - accuracy: 0.8633\n"
     ]
    },
    {
     "data": {
      "text/plain": [
       "<keras.callbacks.History at 0x296b03b9540>"
      ]
     },
     "execution_count": 16,
     "metadata": {},
     "output_type": "execute_result"
    }
   ],
   "source": [
    "# Training the ANN model on training set  (fit method always the same)\n",
    "# batch_size = 32, the default value, number of epochs  = 100\n",
    "ann.fit(X_train, y_train, batch_size = 32, epochs = 100)"
   ]
  },
  {
   "cell_type": "code",
   "execution_count": null,
   "id": "db42ad86",
   "metadata": {},
   "outputs": [],
   "source": [
    "X_test.shape"
   ]
  },
  {
   "cell_type": "code",
   "execution_count": null,
   "id": "b74a6234",
   "metadata": {},
   "outputs": [],
   "source": [
    "ann.get_weights()[4].shape"
   ]
  },
  {
   "cell_type": "code",
   "execution_count": 17,
   "id": "da9fc49c",
   "metadata": {},
   "outputs": [
    {
     "name": "stdout",
     "output_type": "stream",
     "text": [
      "Model: \"sequential\"\n",
      "_________________________________________________________________\n",
      " Layer (type)                Output Shape              Param #   \n",
      "=================================================================\n",
      " dense (Dense)               (32, 8)                   104       \n",
      "                                                                 \n",
      " dense_1 (Dense)             (32, 6)                   54        \n",
      "                                                                 \n",
      " dense_2 (Dense)             (32, 1)                   7         \n",
      "                                                                 \n",
      "=================================================================\n",
      "Total params: 165\n",
      "Trainable params: 165\n",
      "Non-trainable params: 0\n",
      "_________________________________________________________________\n"
     ]
    }
   ],
   "source": [
    "ann.summary()"
   ]
  },
  {
   "cell_type": "code",
   "execution_count": null,
   "id": "c0c67666",
   "metadata": {},
   "outputs": [],
   "source": [
    "y_pred_prob = ann.predict(X_test)"
   ]
  },
  {
   "cell_type": "code",
   "execution_count": null,
   "id": "e0ed9c3a",
   "metadata": {},
   "outputs": [],
   "source": [
    "y_pred_prob.shape"
   ]
  },
  {
   "cell_type": "code",
   "execution_count": null,
   "id": "eacf61bd",
   "metadata": {},
   "outputs": [],
   "source": [
    "#show the vector of predictions and real values\n",
    "#probabilities\n",
    "y_pred_prob = ann.predict(X_test)\n",
    "\n",
    "#probabilities to binary\n",
    "y_pred = (y_pred_prob > 0.5)\n",
    "print(np.concatenate((y_pred.reshape(len(y_pred),1), y_test.reshape(len(y_test),1)), 1))\n",
    "\n",
    "#Confusion Matrix\n",
    "confusion_matrix = confusion_matrix(y_test, y_pred)\n",
    "print(\"Confusion Matrix\", confusion_matrix)\n",
    "print(\"Accuracy Score\", accuracy_score(y_test, y_pred))"
   ]
  }
 ],
 "metadata": {
  "kernelspec": {
   "display_name": "Python 3 (ipykernel)",
   "language": "python",
   "name": "python3"
  },
  "language_info": {
   "codemirror_mode": {
    "name": "ipython",
    "version": 3
   },
   "file_extension": ".py",
   "mimetype": "text/x-python",
   "name": "python",
   "nbconvert_exporter": "python",
   "pygments_lexer": "ipython3",
   "version": "3.10.8"
  }
 },
 "nbformat": 4,
 "nbformat_minor": 5
}
